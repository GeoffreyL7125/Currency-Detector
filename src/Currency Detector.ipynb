{
 "cells": [
  {
   "cell_type": "markdown",
   "id": "40fc40b7",
   "metadata": {},
   "source": [
    "# **Import Modules**"
   ]
  },
  {
   "cell_type": "code",
   "execution_count": 58,
   "id": "0489b84c",
   "metadata": {},
   "outputs": [],
   "source": [
    "import os\n",
    "import numpy as np\n",
    "import cv2\n",
    "import tensorflow as tf\n",
    "from gtts import gTTS\n",
    "import pygame\n",
    "from keras.api.applications import ResNet50V2\n",
    "from keras.api.models import Sequential\n",
    "from keras.api.layers import Dense, GlobalAveragePooling2D, Dropout\n",
    "from keras.api.callbacks import ReduceLROnPlateau, EarlyStopping\n",
    "from keras.api.optimizers import SGD\n",
    "from sklearn.model_selection import train_test_split"
   ]
  },
  {
   "cell_type": "markdown",
   "id": "577b2be9",
   "metadata": {},
   "source": [
    "# **Define Path, Image Size, and Batch**"
   ]
  },
  {
   "cell_type": "code",
   "execution_count": 4,
   "id": "111dbe3a",
   "metadata": {},
   "outputs": [],
   "source": [
    "dataset_path = '/Users/geoffrey/Downloads/Banknotes Dataset'\n",
    "\n",
    "IMG_HEIGHT, IMG_WIDTH = 224, 224\n",
    "BATCH_SIZE = 32"
   ]
  },
  {
   "cell_type": "markdown",
   "id": "7c6d0170",
   "metadata": {},
   "source": [
    "# **Load Dataset**"
   ]
  },
  {
   "cell_type": "code",
   "execution_count": 5,
   "id": "6daf4b58",
   "metadata": {},
   "outputs": [],
   "source": [
    "# Dataset load function\n",
    "def load_images_from_folder(parent_folder):\n",
    "    images = []\n",
    "    labels = []\n",
    "    class_names = set()\n",
    "    for country_folder in os.listdir(parent_folder):\n",
    "        country_path = os.path.join(parent_folder, country_folder)\n",
    "\n",
    "        if os.path.isdir(country_path):\n",
    "            for banknote_folder in os.listdir(country_path):\n",
    "                banknote_path = os.path.join(country_path, banknote_folder)\n",
    "\n",
    "                if os.path.isdir(banknote_path):\n",
    "                    label = f\"{country_folder}_{banknote_folder}\"\n",
    "                    class_names.add(label)\n",
    "\n",
    "                    for filename in os.listdir(banknote_path):\n",
    "                        img_path = os.path.join(banknote_path, filename)\n",
    "                        img = cv2.imread(img_path)\n",
    "\n",
    "                        if img is not None:\n",
    "                            img = cv2.resize(img, (IMG_HEIGHT, IMG_WIDTH))\n",
    "                            images.append(img)\n",
    "                            labels.append(label)\n",
    "\n",
    "    return np.array(images), np.array(labels), sorted(class_names)\n",
    "\n",
    "# Load dataset\n",
    "images, labels, class_names = load_images_from_folder(dataset_path)"
   ]
  },
  {
   "cell_type": "markdown",
   "id": "82e34717",
   "metadata": {},
   "source": [
    "# **Train the Model**"
   ]
  },
  {
   "cell_type": "code",
   "execution_count": 6,
   "id": "9fc517d0",
   "metadata": {},
   "outputs": [
    {
     "name": "stdout",
     "output_type": "stream",
     "text": [
      "Epoch 1/20\n",
      "\u001b[1m33/33\u001b[0m \u001b[32m━━━━━━━━━━━━━━━━━━━━\u001b[0m\u001b[37m\u001b[0m \u001b[1m36s\u001b[0m 1s/step - accuracy: 0.0257 - loss: 4.4956 - val_accuracy: 0.0000e+00 - val_loss: 5.0831\n",
      "Epoch 2/20\n",
      "\u001b[1m33/33\u001b[0m \u001b[32m━━━━━━━━━━━━━━━━━━━━\u001b[0m\u001b[37m\u001b[0m \u001b[1m34s\u001b[0m 1s/step - accuracy: 0.0625 - loss: 4.0986 - val_accuracy: 0.0000e+00 - val_loss: 5.7932\n",
      "Epoch 3/20\n",
      "\u001b[1m33/33\u001b[0m \u001b[32m━━━━━━━━━━━━━━━━━━━━\u001b[0m\u001b[37m\u001b[0m \u001b[1m35s\u001b[0m 1s/step - accuracy: 0.1254 - loss: 3.6794 - val_accuracy: 0.0000e+00 - val_loss: 6.8298\n",
      "Epoch 4/20\n",
      "\u001b[1m33/33\u001b[0m \u001b[32m━━━━━━━━━━━━━━━━━━━━\u001b[0m\u001b[37m\u001b[0m \u001b[1m36s\u001b[0m 1s/step - accuracy: 0.1995 - loss: 3.2008 - val_accuracy: 0.0000e+00 - val_loss: 7.3775\n",
      "Epoch 5/20\n",
      "\u001b[1m33/33\u001b[0m \u001b[32m━━━━━━━━━━━━━━━━━━━━\u001b[0m\u001b[37m\u001b[0m \u001b[1m35s\u001b[0m 1s/step - accuracy: 0.2994 - loss: 2.7110 - val_accuracy: 0.0000e+00 - val_loss: 8.8555\n",
      "Epoch 6/20\n",
      "\u001b[1m33/33\u001b[0m \u001b[32m━━━━━━━━━━━━━━━━━━━━\u001b[0m\u001b[37m\u001b[0m \u001b[1m36s\u001b[0m 1s/step - accuracy: 0.3593 - loss: 2.3553 - val_accuracy: 0.0000e+00 - val_loss: 9.6364\n",
      "Epoch 7/20\n",
      "\u001b[1m33/33\u001b[0m \u001b[32m━━━━━━━━━━━━━━━━━━━━\u001b[0m\u001b[37m\u001b[0m \u001b[1m36s\u001b[0m 1s/step - accuracy: 0.4594 - loss: 2.0288 - val_accuracy: 0.0000e+00 - val_loss: 10.2335\n",
      "Epoch 8/20\n",
      "\u001b[1m33/33\u001b[0m \u001b[32m━━━━━━━━━━━━━━━━━━━━\u001b[0m\u001b[37m\u001b[0m \u001b[1m36s\u001b[0m 1s/step - accuracy: 0.5572 - loss: 1.6139 - val_accuracy: 0.0000e+00 - val_loss: 11.7057\n",
      "Epoch 9/20\n",
      "\u001b[1m33/33\u001b[0m \u001b[32m━━━━━━━━━━━━━━━━━━━━\u001b[0m\u001b[37m\u001b[0m \u001b[1m36s\u001b[0m 1s/step - accuracy: 0.6072 - loss: 1.3820 - val_accuracy: 0.0039 - val_loss: 12.9943\n",
      "Epoch 10/20\n",
      "\u001b[1m33/33\u001b[0m \u001b[32m━━━━━━━━━━━━━━━━━━━━\u001b[0m\u001b[37m\u001b[0m \u001b[1m36s\u001b[0m 1s/step - accuracy: 0.7008 - loss: 1.1009 - val_accuracy: 0.0039 - val_loss: 13.7076\n",
      "Epoch 11/20\n",
      "\u001b[1m33/33\u001b[0m \u001b[32m━━━━━━━━━━━━━━━━━━━━\u001b[0m\u001b[37m\u001b[0m \u001b[1m36s\u001b[0m 1s/step - accuracy: 0.7283 - loss: 0.9831 - val_accuracy: 0.0000e+00 - val_loss: 15.2628\n",
      "Epoch 12/20\n",
      "\u001b[1m33/33\u001b[0m \u001b[32m━━━━━━━━━━━━━━━━━━━━\u001b[0m\u001b[37m\u001b[0m \u001b[1m36s\u001b[0m 1s/step - accuracy: 0.7463 - loss: 0.9070 - val_accuracy: 0.0039 - val_loss: 15.3482\n",
      "Epoch 13/20\n",
      "\u001b[1m33/33\u001b[0m \u001b[32m━━━━━━━━━━━━━━━━━━━━\u001b[0m\u001b[37m\u001b[0m \u001b[1m36s\u001b[0m 1s/step - accuracy: 0.7688 - loss: 0.7525 - val_accuracy: 0.0039 - val_loss: 15.7203\n",
      "Epoch 14/20\n",
      "\u001b[1m33/33\u001b[0m \u001b[32m━━━━━━━━━━━━━━━━━━━━\u001b[0m\u001b[37m\u001b[0m \u001b[1m37s\u001b[0m 1s/step - accuracy: 0.8183 - loss: 0.6108 - val_accuracy: 0.0039 - val_loss: 16.7869\n",
      "Epoch 15/20\n",
      "\u001b[1m33/33\u001b[0m \u001b[32m━━━━━━━━━━━━━━━━━━━━\u001b[0m\u001b[37m\u001b[0m \u001b[1m37s\u001b[0m 1s/step - accuracy: 0.8601 - loss: 0.5255 - val_accuracy: 0.0039 - val_loss: 16.9412\n",
      "Epoch 16/20\n",
      "\u001b[1m33/33\u001b[0m \u001b[32m━━━━━━━━━━━━━━━━━━━━\u001b[0m\u001b[37m\u001b[0m \u001b[1m37s\u001b[0m 1s/step - accuracy: 0.8725 - loss: 0.4623 - val_accuracy: 0.0039 - val_loss: 17.5983\n",
      "Epoch 17/20\n",
      "\u001b[1m33/33\u001b[0m \u001b[32m━━━━━━━━━━━━━━━━━━━━\u001b[0m\u001b[37m\u001b[0m \u001b[1m37s\u001b[0m 1s/step - accuracy: 0.8934 - loss: 0.3721 - val_accuracy: 0.0039 - val_loss: 17.4444\n",
      "Epoch 18/20\n",
      "\u001b[1m33/33\u001b[0m \u001b[32m━━━━━━━━━━━━━━━━━━━━\u001b[0m\u001b[37m\u001b[0m \u001b[1m37s\u001b[0m 1s/step - accuracy: 0.8968 - loss: 0.4048 - val_accuracy: 0.0039 - val_loss: 18.1265\n",
      "Epoch 19/20\n",
      "\u001b[1m33/33\u001b[0m \u001b[32m━━━━━━━━━━━━━━━━━━━━\u001b[0m\u001b[37m\u001b[0m \u001b[1m37s\u001b[0m 1s/step - accuracy: 0.9162 - loss: 0.3117 - val_accuracy: 0.0039 - val_loss: 19.5468\n",
      "Epoch 20/20\n",
      "\u001b[1m33/33\u001b[0m \u001b[32m━━━━━━━━━━━━━━━━━━━━\u001b[0m\u001b[37m\u001b[0m \u001b[1m37s\u001b[0m 1s/step - accuracy: 0.9370 - loss: 0.2663 - val_accuracy: 0.0039 - val_loss: 19.3725\n"
     ]
    },
    {
     "data": {
      "text/plain": [
       "<keras.src.callbacks.history.History at 0x16bea24d0>"
      ]
     },
     "execution_count": 6,
     "metadata": {},
     "output_type": "execute_result"
    }
   ],
   "source": [
    "# Convert labels to numeric values\n",
    "label_to_index = {name: index for index, name in enumerate(class_names)}\n",
    "labels = np.array([label_to_index[label] for label in labels])\n",
    "\n",
    "# Normalize images\n",
    "images = images / 255.0\n",
    "\n",
    "#Load the pre-trained ResNet50V2 model without the top layer\n",
    "base_model = ResNet50V2(weights='imagenet', include_top=False, input_shape=(IMG_HEIGHT, IMG_WIDTH, 3))\n",
    "\n",
    "#Freeze the base model\n",
    "base_model.trainable = False\n",
    "\n",
    "# Build the model\n",
    "model = Sequential([\n",
    "    base_model,\n",
    "    GlobalAveragePooling2D(),\n",
    "    Dense(128, activation='relu'),\n",
    "    Dense(64, activation='relu'),\n",
    "    Dropout(0.2),\n",
    "    Dense(32, activation='relu'),\n",
    "    Dense(len(class_names), activation='softmax')\n",
    "])\n",
    "\n",
    "# Compile the model\n",
    "model.compile(optimizer='adam',\n",
    "              loss='sparse_categorical_crossentropy',\n",
    "              metrics=['accuracy'])\n",
    "\n",
    "# Train the model\n",
    "model.fit(images, labels, epochs=20, batch_size=BATCH_SIZE, validation_split=0.2)"
   ]
  },
  {
   "cell_type": "markdown",
   "id": "a7f8e36d",
   "metadata": {},
   "source": [
    "# **Get the Exchange Rate**"
   ]
  },
  {
   "cell_type": "code",
   "execution_count": 7,
   "id": "a8727e18",
   "metadata": {},
   "outputs": [],
   "source": [
    "def get_exchange_rates():\n",
    "    exchange_rates = {\n",
    "        'USD' : {\n",
    "            'Rupiah' : 16234.00,\n",
    "            'Peso' : 58.50,\n",
    "            'SingaporeDollar' : 1.35,\n",
    "            'Ringgit' : 4.68,\n",
    "            'Dong' : 25457.50,\n",
    "            'Baht' : 36.70,\n",
    "            'Kip' : 21495.00,\n",
    "            'NewTaiwanDollar' : 32.37,\n",
    "            'Kyat' : 2100.08,\n",
    "            'BruneiDollar' : 1.35,\n",
    "            'Riel' : 4093.00,\n",
    "        },\n",
    "\n",
    "        'EUR' : {\n",
    "            'Rupiah' : 17584.88,\n",
    "            'Peso' : 63.37,\n",
    "            'SingaporeDollar' : 1.46,\n",
    "            'Ringgit' : 5.08,\n",
    "            'Dong' : 27576.84,\n",
    "            'Baht' : 39.76,\n",
    "            'Kip' : 23284.46,\n",
    "            'NewTaiwanDollar' : 35.07,\n",
    "            'Kyat' : 2275.13,\n",
    "            'BruneiDollar' : 1.46,\n",
    "            'Riel' : 4434.56,\n",
    "        }\n",
    "    }\n",
    "\n",
    "    return exchange_rates"
   ]
  },
  {
   "cell_type": "markdown",
   "id": "adbad9c5",
   "metadata": {},
   "source": [
    "# **Detect the Currency**"
   ]
  },
  {
   "cell_type": "code",
   "execution_count": 76,
   "id": "3846c2a2",
   "metadata": {},
   "outputs": [
    {
     "ename": "KeyboardInterrupt",
     "evalue": "",
     "output_type": "error",
     "traceback": [
      "\u001b[0;31m---------------------------------------------------------------------------\u001b[0m",
      "\u001b[0;31mKeyboardInterrupt\u001b[0m                         Traceback (most recent call last)",
      "Cell \u001b[0;32mIn[76], line 69\u001b[0m\n\u001b[1;32m     66\u001b[0m         pygame\u001b[38;5;241m.\u001b[39mtime\u001b[38;5;241m.\u001b[39mClock()\u001b[38;5;241m.\u001b[39mtick(\u001b[38;5;241m10\u001b[39m)\n\u001b[1;32m     68\u001b[0m \u001b[38;5;66;03m# Capture an image and detect currency\u001b[39;00m\n\u001b[0;32m---> 69\u001b[0m capture_image_and_detect_currency()\n",
      "Cell \u001b[0;32mIn[76], line 19\u001b[0m, in \u001b[0;36mcapture_image_and_detect_currency\u001b[0;34m()\u001b[0m\n\u001b[1;32m     16\u001b[0m cap \u001b[38;5;241m=\u001b[39m cv2\u001b[38;5;241m.\u001b[39mVideoCapture(\u001b[38;5;241m0\u001b[39m)\n\u001b[1;32m     18\u001b[0m \u001b[38;5;28;01mwhile\u001b[39;00m \u001b[38;5;28;01mTrue\u001b[39;00m:\n\u001b[0;32m---> 19\u001b[0m     ret, frame \u001b[38;5;241m=\u001b[39m cap\u001b[38;5;241m.\u001b[39mread()\n\u001b[1;32m     21\u001b[0m     \u001b[38;5;28;01mif\u001b[39;00m \u001b[38;5;129;01mnot\u001b[39;00m ret:\n\u001b[1;32m     22\u001b[0m         \u001b[38;5;28;01mbreak\u001b[39;00m\n",
      "\u001b[0;31mKeyboardInterrupt\u001b[0m: "
     ]
    }
   ],
   "source": [
    "def detect_currency(frame, model, class_names):\n",
    "    img = cv2.resize(frame, (IMG_HEIGHT, IMG_WIDTH))\n",
    "    img = np.expand_dims(img, axis=0) / 255.0\n",
    "    prediction = model.predict(img)\n",
    "    class_index = np.argmax(prediction)\n",
    "    currency_label = class_names[class_index]\n",
    "\n",
    "    return currency_label\n",
    "\n",
    "# Initialize pygame for playing audio\n",
    "pygame.init()\n",
    "\n",
    "# Function to capture an image from webcam and detect currency\n",
    "def capture_image_and_detect_currency():\n",
    "    # Capture video from webcam\n",
    "    cap = cv2.VideoCapture(0)\n",
    "\n",
    "    while True:\n",
    "        ret, frame = cap.read()\n",
    "\n",
    "        if not ret:\n",
    "            break\n",
    "        \n",
    "        # Display the resulting frame\n",
    "        cv2.imshow('Capture Image', frame)\n",
    "        \n",
    "        # Break the loop on 'q' key press\n",
    "        if cv2.waitKey(1) & 0xFF == ord('q'):\n",
    "            break\n",
    "    \n",
    "    # Release the capture\n",
    "    cap.release()\n",
    "    cv2.destroyAllWindows()\n",
    "    \n",
    "    # Detect currency\n",
    "    currency_label = detect_currency(frame, model, class_names)\n",
    "    \n",
    "    # Parse the detected currency\n",
    "    country_name, banknote_value = currency_label.split('_')\n",
    "    country = country_name.split(' ')\n",
    "    banknote_value_num, banknote_name = banknote_value.split(' ')\n",
    "\n",
    "    # Get current exchange rates\n",
    "    exchange_rates = get_exchange_rates()\n",
    "    usd_rate = exchange_rates['USD'][banknote_name]\n",
    "    eur_rate = exchange_rates['EUR'][banknote_name]\n",
    "    \n",
    "    # Calculate equivalent values\n",
    "    value_in_usd = float(banknote_value_num) / usd_rate\n",
    "    value_in_eur = float(banknote_value_num) / eur_rate\n",
    "    \n",
    "    # Prepare the speech output\n",
    "    speech_output = (f\"The currency you are holding is {country} with the amount of {banknote_value_num} {banknote_name}. \"\n",
    "                     f\"Here are some details about its exchange value: \"\n",
    "                     f\"1 USD equals to {usd_rate} {banknote_name}, while 1 EURO equals to {eur_rate} {banknote_name}. So,\"\n",
    "                     f\"{banknote_value_num} {banknote_name} is equal to {value_in_usd:.2f} USD and {value_in_eur:.2f} EURO.\")\n",
    "    \n",
    "    # Convert text to speech using gTTS\n",
    "    tts = gTTS(text=speech_output, lang='en')\n",
    "    tts.save(\"speech.mp3\")\n",
    "    \n",
    "    # Play the audio using pygame\n",
    "    pygame.mixer.music.load(\"speech.mp3\")\n",
    "    pygame.mixer.music.play()\n",
    "    while pygame.mixer.music.get_busy():\n",
    "        pygame.time.Clock().tick(10)\n",
    "\n",
    "# Capture an image and detect currency\n",
    "capture_image_and_detect_currency()"
   ]
  }
 ],
 "metadata": {
  "kernelspec": {
   "display_name": "Python 3 (ipykernel)",
   "language": "python",
   "name": "python3"
  },
  "language_info": {
   "codemirror_mode": {
    "name": "ipython",
    "version": 3
   },
   "file_extension": ".py",
   "mimetype": "text/x-python",
   "name": "python",
   "nbconvert_exporter": "python",
   "pygments_lexer": "ipython3",
   "version": "3.11.5"
  }
 },
 "nbformat": 4,
 "nbformat_minor": 5
}
